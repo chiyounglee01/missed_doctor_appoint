{
 "cells": [
  {
   "cell_type": "markdown",
   "id": "16f04051",
   "metadata": {},
   "source": [
    "# Visual Data Analysis of Missed Doctors Appointments in Brazil"
   ]
  },
  {
   "cell_type": "markdown",
   "id": "dd2643b4",
   "metadata": {},
   "source": [
    "## Introduction\n",
    "\n",
    "**Lets say a person makes a doctor appointment in advance, but misses it on day of appointment.**\n",
    "\n",
    "**What factors are common amongst patients who do not show up for doctor appointments?**\n",
    "**Can text messages help patients not miss appointments? Does the number of wait days influence missed appointments?**\n",
    "\n",
    "**We try to answer these questions by analyzing a 2016 Brazilian healthcare dataset.\n",
    "Data of appointments was combined from more than 45 clinics and hospitals at municipallevel in Brazil betweeen 04/29/2016 and 6/8/2016.**\n",
    "\n",
    "**The link to the dataset is below.**\n",
    "\n",
    "https://www.kaggle.com/joniarroba/noshowappointments\n",
    "\n",
    "**Below are notes on the dataset.**\n",
    "\n",
    "* **Scholarship variable means this concept** = https://en.wikipedia.org/wiki/Bolsa_Fam%C3%ADlia\n",
    "\n",
    "\n",
    "* **In the \"No-show\" column \"No\" means the patient went to the appointment. \"Yes\" means the patient missed the appointment.**\n",
    "\n"
   ]
  },
  {
   "cell_type": "markdown",
   "id": "257e104a",
   "metadata": {},
   "source": [
    "## Data Wrangling\n"
   ]
  },
  {
   "cell_type": "markdown",
   "id": "522c7e76",
   "metadata": {},
   "source": [
    "**Import necessary libraries.**"
   ]
  },
  {
   "cell_type": "code",
   "execution_count": 1225,
   "id": "3ba57561",
   "metadata": {},
   "outputs": [],
   "source": [
    "import numpy as np\n",
    "import pandas as pd\n",
    "import matplotlib.pyplot as plt\n",
    "import seaborn as sns\n",
    "%matplotlib inline"
   ]
  },
  {
   "cell_type": "markdown",
   "id": "3b91740b",
   "metadata": {},
   "source": [
    "**Read the raw data.**"
   ]
  },
  {
   "cell_type": "code",
   "execution_count": 1226,
   "id": "bb58f16b",
   "metadata": {},
   "outputs": [],
   "source": [
    "df = pd.read_csv(\"KaggleV2-May-2016.csv\")"
   ]
  },
  {
   "cell_type": "markdown",
   "id": "01431062",
   "metadata": {},
   "source": [
    "**Check the information.**"
   ]
  },
  {
   "cell_type": "code",
   "execution_count": 1227,
   "id": "490c4509",
   "metadata": {},
   "outputs": [
    {
     "name": "stdout",
     "output_type": "stream",
     "text": [
      "<class 'pandas.core.frame.DataFrame'>\n",
      "RangeIndex: 110527 entries, 0 to 110526\n",
      "Data columns (total 14 columns):\n",
      " #   Column          Non-Null Count   Dtype  \n",
      "---  ------          --------------   -----  \n",
      " 0   PatientId       110527 non-null  float64\n",
      " 1   AppointmentID   110527 non-null  int64  \n",
      " 2   Gender          110527 non-null  object \n",
      " 3   ScheduledDay    110527 non-null  object \n",
      " 4   AppointmentDay  110527 non-null  object \n",
      " 5   Age             110527 non-null  int64  \n",
      " 6   Neighbourhood   110527 non-null  object \n",
      " 7   Scholarship     110527 non-null  int64  \n",
      " 8   Hipertension    110527 non-null  int64  \n",
      " 9   Diabetes        110527 non-null  int64  \n",
      " 10  Alcoholism      110527 non-null  int64  \n",
      " 11  Handcap         110527 non-null  int64  \n",
      " 12  SMS_received    110527 non-null  int64  \n",
      " 13  No-show         110527 non-null  object \n",
      "dtypes: float64(1), int64(8), object(5)\n",
      "memory usage: 11.8+ MB\n"
     ]
    }
   ],
   "source": [
    "df.info()"
   ]
  },
  {
   "cell_type": "markdown",
   "id": "822e70aa",
   "metadata": {},
   "source": [
    "**The \"Patient ID\" is a float, we will need to change it into integers in later steps. \"ScheduledDay\" and \"AppointmentDay\" columns are strings, we will need to change the columns into datetime in later steps.**"
   ]
  },
  {
   "cell_type": "markdown",
   "id": "91027731",
   "metadata": {},
   "source": [
    "**Below, check columns for any null values.**"
   ]
  },
  {
   "cell_type": "code",
   "execution_count": 1228,
   "id": "c2ecb3b7",
   "metadata": {},
   "outputs": [
    {
     "data": {
      "text/plain": [
       "PatientId         0\n",
       "AppointmentID     0\n",
       "Gender            0\n",
       "ScheduledDay      0\n",
       "AppointmentDay    0\n",
       "Age               0\n",
       "Neighbourhood     0\n",
       "Scholarship       0\n",
       "Hipertension      0\n",
       "Diabetes          0\n",
       "Alcoholism        0\n",
       "Handcap           0\n",
       "SMS_received      0\n",
       "No-show           0\n",
       "dtype: int64"
      ]
     },
     "execution_count": 1228,
     "metadata": {},
     "output_type": "execute_result"
    }
   ],
   "source": [
    "df.isnull().sum()"
   ]
  },
  {
   "cell_type": "markdown",
   "id": "38e8b513",
   "metadata": {},
   "source": [
    "**There are no null values in this dataset.**"
   ]
  },
  {
   "cell_type": "markdown",
   "id": "12b6871d",
   "metadata": {},
   "source": [
    "**Below, check for duplicated rows.**"
   ]
  },
  {
   "cell_type": "code",
   "execution_count": 1229,
   "id": "cf5a85bd",
   "metadata": {},
   "outputs": [
    {
     "data": {
      "text/plain": [
       "0"
      ]
     },
     "execution_count": 1229,
     "metadata": {},
     "output_type": "execute_result"
    }
   ],
   "source": [
    "df.duplicated().sum()"
   ]
  },
  {
   "cell_type": "markdown",
   "id": "e7718419",
   "metadata": {},
   "source": [
    "**There are no duplicated rows in this dataset.**"
   ]
  },
  {
   "cell_type": "markdown",
   "id": "9e8fa7ba",
   "metadata": {},
   "source": [
    "**Below, check the first five rows of the dataframe.**"
   ]
  },
  {
   "cell_type": "code",
   "execution_count": 1230,
   "id": "7626fb9f",
   "metadata": {},
   "outputs": [
    {
     "data": {
      "text/html": [
       "<div>\n",
       "<style scoped>\n",
       "    .dataframe tbody tr th:only-of-type {\n",
       "        vertical-align: middle;\n",
       "    }\n",
       "\n",
       "    .dataframe tbody tr th {\n",
       "        vertical-align: top;\n",
       "    }\n",
       "\n",
       "    .dataframe thead th {\n",
       "        text-align: right;\n",
       "    }\n",
       "</style>\n",
       "<table border=\"1\" class=\"dataframe\">\n",
       "  <thead>\n",
       "    <tr style=\"text-align: right;\">\n",
       "      <th></th>\n",
       "      <th>PatientId</th>\n",
       "      <th>AppointmentID</th>\n",
       "      <th>Gender</th>\n",
       "      <th>ScheduledDay</th>\n",
       "      <th>AppointmentDay</th>\n",
       "      <th>Age</th>\n",
       "      <th>Neighbourhood</th>\n",
       "      <th>Scholarship</th>\n",
       "      <th>Hipertension</th>\n",
       "      <th>Diabetes</th>\n",
       "      <th>Alcoholism</th>\n",
       "      <th>Handcap</th>\n",
       "      <th>SMS_received</th>\n",
       "      <th>No-show</th>\n",
       "    </tr>\n",
       "  </thead>\n",
       "  <tbody>\n",
       "    <tr>\n",
       "      <th>0</th>\n",
       "      <td>2.987250e+13</td>\n",
       "      <td>5642903</td>\n",
       "      <td>F</td>\n",
       "      <td>2016-04-29T18:38:08Z</td>\n",
       "      <td>2016-04-29T00:00:00Z</td>\n",
       "      <td>62</td>\n",
       "      <td>JARDIM DA PENHA</td>\n",
       "      <td>0</td>\n",
       "      <td>1</td>\n",
       "      <td>0</td>\n",
       "      <td>0</td>\n",
       "      <td>0</td>\n",
       "      <td>0</td>\n",
       "      <td>No</td>\n",
       "    </tr>\n",
       "    <tr>\n",
       "      <th>1</th>\n",
       "      <td>5.589978e+14</td>\n",
       "      <td>5642503</td>\n",
       "      <td>M</td>\n",
       "      <td>2016-04-29T16:08:27Z</td>\n",
       "      <td>2016-04-29T00:00:00Z</td>\n",
       "      <td>56</td>\n",
       "      <td>JARDIM DA PENHA</td>\n",
       "      <td>0</td>\n",
       "      <td>0</td>\n",
       "      <td>0</td>\n",
       "      <td>0</td>\n",
       "      <td>0</td>\n",
       "      <td>0</td>\n",
       "      <td>No</td>\n",
       "    </tr>\n",
       "    <tr>\n",
       "      <th>2</th>\n",
       "      <td>4.262962e+12</td>\n",
       "      <td>5642549</td>\n",
       "      <td>F</td>\n",
       "      <td>2016-04-29T16:19:04Z</td>\n",
       "      <td>2016-04-29T00:00:00Z</td>\n",
       "      <td>62</td>\n",
       "      <td>MATA DA PRAIA</td>\n",
       "      <td>0</td>\n",
       "      <td>0</td>\n",
       "      <td>0</td>\n",
       "      <td>0</td>\n",
       "      <td>0</td>\n",
       "      <td>0</td>\n",
       "      <td>No</td>\n",
       "    </tr>\n",
       "    <tr>\n",
       "      <th>3</th>\n",
       "      <td>8.679512e+11</td>\n",
       "      <td>5642828</td>\n",
       "      <td>F</td>\n",
       "      <td>2016-04-29T17:29:31Z</td>\n",
       "      <td>2016-04-29T00:00:00Z</td>\n",
       "      <td>8</td>\n",
       "      <td>PONTAL DE CAMBURI</td>\n",
       "      <td>0</td>\n",
       "      <td>0</td>\n",
       "      <td>0</td>\n",
       "      <td>0</td>\n",
       "      <td>0</td>\n",
       "      <td>0</td>\n",
       "      <td>No</td>\n",
       "    </tr>\n",
       "    <tr>\n",
       "      <th>4</th>\n",
       "      <td>8.841186e+12</td>\n",
       "      <td>5642494</td>\n",
       "      <td>F</td>\n",
       "      <td>2016-04-29T16:07:23Z</td>\n",
       "      <td>2016-04-29T00:00:00Z</td>\n",
       "      <td>56</td>\n",
       "      <td>JARDIM DA PENHA</td>\n",
       "      <td>0</td>\n",
       "      <td>1</td>\n",
       "      <td>1</td>\n",
       "      <td>0</td>\n",
       "      <td>0</td>\n",
       "      <td>0</td>\n",
       "      <td>No</td>\n",
       "    </tr>\n",
       "  </tbody>\n",
       "</table>\n",
       "</div>"
      ],
      "text/plain": [
       "      PatientId  AppointmentID Gender          ScheduledDay  \\\n",
       "0  2.987250e+13        5642903      F  2016-04-29T18:38:08Z   \n",
       "1  5.589978e+14        5642503      M  2016-04-29T16:08:27Z   \n",
       "2  4.262962e+12        5642549      F  2016-04-29T16:19:04Z   \n",
       "3  8.679512e+11        5642828      F  2016-04-29T17:29:31Z   \n",
       "4  8.841186e+12        5642494      F  2016-04-29T16:07:23Z   \n",
       "\n",
       "         AppointmentDay  Age      Neighbourhood  Scholarship  Hipertension  \\\n",
       "0  2016-04-29T00:00:00Z   62    JARDIM DA PENHA            0             1   \n",
       "1  2016-04-29T00:00:00Z   56    JARDIM DA PENHA            0             0   \n",
       "2  2016-04-29T00:00:00Z   62      MATA DA PRAIA            0             0   \n",
       "3  2016-04-29T00:00:00Z    8  PONTAL DE CAMBURI            0             0   \n",
       "4  2016-04-29T00:00:00Z   56    JARDIM DA PENHA            0             1   \n",
       "\n",
       "   Diabetes  Alcoholism  Handcap  SMS_received No-show  \n",
       "0         0           0        0             0      No  \n",
       "1         0           0        0             0      No  \n",
       "2         0           0        0             0      No  \n",
       "3         0           0        0             0      No  \n",
       "4         1           0        0             0      No  "
      ]
     },
     "execution_count": 1230,
     "metadata": {},
     "output_type": "execute_result"
    }
   ],
   "source": [
    "df.head()"
   ]
  },
  {
   "cell_type": "markdown",
   "id": "beb6fd89",
   "metadata": {},
   "source": [
    "**\"PatientID\" numbers are floats while other numbers are integers.**\n",
    "\n",
    "**Below, change \"PatientID\" numbers to integers.**"
   ]
  },
  {
   "cell_type": "code",
   "execution_count": 1231,
   "id": "68688d16",
   "metadata": {},
   "outputs": [],
   "source": [
    "df['PatientId'] = df['PatientId'].astype(int)"
   ]
  },
  {
   "cell_type": "markdown",
   "id": "aff12380",
   "metadata": {},
   "source": [
    "**Convert \"ScheduledDay\" to datetime.**"
   ]
  },
  {
   "cell_type": "code",
   "execution_count": 1232,
   "id": "049567da",
   "metadata": {},
   "outputs": [],
   "source": [
    "df['ScheduledDay'] = pd.to_datetime(df['ScheduledDay'])"
   ]
  },
  {
   "cell_type": "markdown",
   "id": "ef029635",
   "metadata": {},
   "source": [
    "**Make new column \"ScheduledDay_date\" with just the date of \"ScheduledDay\".**"
   ]
  },
  {
   "cell_type": "code",
   "execution_count": 1233,
   "id": "cf53b450",
   "metadata": {},
   "outputs": [],
   "source": [
    "df['ScheduledDay_date'] = df['ScheduledDay'].dt.date"
   ]
  },
  {
   "cell_type": "markdown",
   "id": "710c2c29",
   "metadata": {},
   "source": [
    "**Convert \"AppointmentDay\" column to datetime.**"
   ]
  },
  {
   "cell_type": "code",
   "execution_count": 1234,
   "id": "53962a74",
   "metadata": {},
   "outputs": [],
   "source": [
    "df['AppointmentDay'] = pd.to_datetime(df['AppointmentDay'])"
   ]
  },
  {
   "cell_type": "markdown",
   "id": "993056ac",
   "metadata": {},
   "source": [
    "**Make new column \"AppointmentDay_date\" with just the date of \"AppointmentDay\".**"
   ]
  },
  {
   "cell_type": "code",
   "execution_count": 1235,
   "id": "126bf596",
   "metadata": {},
   "outputs": [],
   "source": [
    "df['AppointmentDay_date'] = df['AppointmentDay'].dt.date"
   ]
  },
  {
   "cell_type": "markdown",
   "id": "8371db9c",
   "metadata": {},
   "source": [
    "**Make new column \"AppointmentDay_month\" with just the month of \"AppointmentDay\".**"
   ]
  },
  {
   "cell_type": "code",
   "execution_count": 1236,
   "id": "cbd58759",
   "metadata": {},
   "outputs": [],
   "source": [
    "df['AppointmentDay_month'] = df['AppointmentDay'].apply(lambda x:x.month)"
   ]
  },
  {
   "cell_type": "markdown",
   "id": "0d74f0c3",
   "metadata": {},
   "source": [
    "**Make new column \"AppointmentDay_dow\" for day of week of \"AppointmentDay\".**"
   ]
  },
  {
   "cell_type": "code",
   "execution_count": 1237,
   "id": "80306f7d",
   "metadata": {},
   "outputs": [],
   "source": [
    "df['AppointmentDay_dow'] = df['AppointmentDay'].apply(lambda x:x.dayofweek)"
   ]
  },
  {
   "cell_type": "markdown",
   "id": "4aebabd0",
   "metadata": {},
   "source": [
    "**Check the column \"AppointmentDay_dow\".**"
   ]
  },
  {
   "cell_type": "code",
   "execution_count": 1238,
   "id": "d54219c4",
   "metadata": {},
   "outputs": [
    {
     "data": {
      "text/plain": [
       "0    4\n",
       "1    4\n",
       "2    4\n",
       "3    4\n",
       "4    4\n",
       "Name: AppointmentDay_dow, dtype: int64"
      ]
     },
     "execution_count": 1238,
     "metadata": {},
     "output_type": "execute_result"
    }
   ],
   "source": [
    "df['AppointmentDay_dow'].head()"
   ]
  },
  {
   "cell_type": "markdown",
   "id": "cac2e04d",
   "metadata": {},
   "source": [
    "**The day of week is represented by integers. Reference link below to change integers into the weekday it represents.**\n",
    "\n",
    "https://pandas.pydata.org/docs/reference/api/pandas.Series.dt.dayofweek.html#pandas.Series.dt.dayofweek"
   ]
  },
  {
   "cell_type": "markdown",
   "id": "76ed1860",
   "metadata": {},
   "source": [
    "**Below, make dictionary to change integers into the weekday it represents. Convert integers of \"AppointmentDay_dow\" column into day of week with .map() function.**"
   ]
  },
  {
   "cell_type": "code",
   "execution_count": 1239,
   "id": "b627a17b",
   "metadata": {},
   "outputs": [],
   "source": [
    "dow_dict = {0:\"Monday\",1:\"Tuesday\",2:\"Wednesday\",3:\"Thursday\",4:\"Friday\",5:\"Saturday\",6:\"Sunday\"}\n",
    "\n",
    "df['AppointmentDay_dow']= df['AppointmentDay_dow'].map(dow_dict)"
   ]
  },
  {
   "cell_type": "markdown",
   "id": "5ff90541",
   "metadata": {},
   "source": [
    "**Check converted \"AppointmentDay_dow\" column.**"
   ]
  },
  {
   "cell_type": "code",
   "execution_count": 1240,
   "id": "6a8021c6",
   "metadata": {},
   "outputs": [
    {
     "data": {
      "text/plain": [
       "0          Friday\n",
       "1          Friday\n",
       "2          Friday\n",
       "3          Friday\n",
       "4          Friday\n",
       "           ...   \n",
       "110522    Tuesday\n",
       "110523    Tuesday\n",
       "110524    Tuesday\n",
       "110525    Tuesday\n",
       "110526    Tuesday\n",
       "Name: AppointmentDay_dow, Length: 110527, dtype: object"
      ]
     },
     "execution_count": 1240,
     "metadata": {},
     "output_type": "execute_result"
    }
   ],
   "source": [
    "df['AppointmentDay_dow']"
   ]
  },
  {
   "cell_type": "markdown",
   "id": "4e52becc",
   "metadata": {},
   "source": [
    "**Make new column \"Wait_Days\" by subtracting \"ScheduledDay_date\" from \"AppointmentDay_date\" column.**"
   ]
  },
  {
   "cell_type": "code",
   "execution_count": 1187,
   "id": "d333a859",
   "metadata": {},
   "outputs": [],
   "source": [
    "df['Wait_Days'] = df['AppointmentDay_date']-df['ScheduledDay_date']"
   ]
  },
  {
   "cell_type": "markdown",
   "id": "96320ff9",
   "metadata": {},
   "source": [
    "**Check \"Wait_Days\" column.**"
   ]
  },
  {
   "cell_type": "code",
   "execution_count": 1188,
   "id": "22a3f183",
   "metadata": {},
   "outputs": [
    {
     "data": {
      "text/plain": [
       "0         0 days\n",
       "1         0 days\n",
       "2         0 days\n",
       "3         0 days\n",
       "4         0 days\n",
       "           ...  \n",
       "110522   35 days\n",
       "110523   35 days\n",
       "110524   41 days\n",
       "110525   41 days\n",
       "110526   41 days\n",
       "Name: Wait_Days, Length: 110527, dtype: timedelta64[ns]"
      ]
     },
     "execution_count": 1188,
     "metadata": {},
     "output_type": "execute_result"
    }
   ],
   "source": [
    "df['Wait_Days']"
   ]
  },
  {
   "cell_type": "markdown",
   "id": "29fdb85e",
   "metadata": {},
   "source": [
    "**The \"Wait_Days\" column is in datetime format. Also it has the text \"days\" after each number**"
   ]
  },
  {
   "cell_type": "markdown",
   "id": "857da143",
   "metadata": {},
   "source": [
    "**Below, convert \"Wait_Days\" column to string, extract just the number. Convert the number into integers.**"
   ]
  },
  {
   "cell_type": "code",
   "execution_count": 1189,
   "id": "6c1c037f",
   "metadata": {},
   "outputs": [],
   "source": [
    "df['Wait_Days']=df['Wait_Days'].astype(str)\n",
    "df['Wait_Days']=df['Wait_Days'].apply(lambda x:x.split(\" \")[0])\n",
    "df['Wait_Days']=df['Wait_Days'].astype(int)"
   ]
  },
  {
   "cell_type": "markdown",
   "id": "934391c5",
   "metadata": {},
   "source": [
    "**Check converted \"Wait_Days\" column.**"
   ]
  },
  {
   "cell_type": "code",
   "execution_count": 1190,
   "id": "a5db3bc9",
   "metadata": {},
   "outputs": [
    {
     "data": {
      "text/plain": [
       "0          0\n",
       "1          0\n",
       "2          0\n",
       "3          0\n",
       "4          0\n",
       "          ..\n",
       "110522    35\n",
       "110523    35\n",
       "110524    41\n",
       "110525    41\n",
       "110526    41\n",
       "Name: Wait_Days, Length: 110527, dtype: int64"
      ]
     },
     "execution_count": 1190,
     "metadata": {},
     "output_type": "execute_result"
    }
   ],
   "source": [
    "df['Wait_Days']"
   ]
  },
  {
   "cell_type": "markdown",
   "id": "01f2b277",
   "metadata": {},
   "source": [
    "**Revise the spelling of columns \"Hipertension\" and \"Handcap\" to \"Hypertension\" and \"Handicap\".**"
   ]
  },
  {
   "cell_type": "code",
   "execution_count": 1191,
   "id": "b88eb11a",
   "metadata": {},
   "outputs": [],
   "source": [
    "df.rename(columns = {'Hipertension' : 'Hypertension', 'Handcap':'Handicap'},inplace=True)"
   ]
  },
  {
   "cell_type": "markdown",
   "id": "f695cbc1",
   "metadata": {},
   "source": [
    "**Check the revised column names.**"
   ]
  },
  {
   "cell_type": "code",
   "execution_count": 1192,
   "id": "d05916ee",
   "metadata": {},
   "outputs": [
    {
     "data": {
      "text/plain": [
       "Index(['PatientId', 'AppointmentID', 'Gender', 'ScheduledDay',\n",
       "       'AppointmentDay', 'Age', 'Neighbourhood', 'Scholarship', 'Hypertension',\n",
       "       'Diabetes', 'Alcoholism', 'Handicap', 'SMS_received', 'No-show',\n",
       "       'ScheduledDay_date', 'ScheduledDay_month', 'ScheduledDay_dow',\n",
       "       'AppointmentDay_date', 'AppointmentDay_month', 'AppointmentDay_dow',\n",
       "       'Wait_Days'],\n",
       "      dtype='object')"
      ]
     },
     "execution_count": 1192,
     "metadata": {},
     "output_type": "execute_result"
    }
   ],
   "source": [
    "df.columns"
   ]
  },
  {
   "cell_type": "markdown",
   "id": "65793219",
   "metadata": {},
   "source": [
    "**Sort the dates of \"ScheduledDay_date\".**"
   ]
  },
  {
   "cell_type": "code",
   "execution_count": 1193,
   "id": "05a1820f",
   "metadata": {},
   "outputs": [
    {
     "data": {
      "text/plain": [
       "3764      2015-11-10\n",
       "46292     2015-12-03\n",
       "102797    2015-12-07\n",
       "102796    2015-12-07\n",
       "102799    2015-12-07\n",
       "             ...    \n",
       "92108     2016-06-08\n",
       "92107     2016-06-08\n",
       "92092     2016-06-08\n",
       "92112     2016-06-08\n",
       "86333     2016-06-08\n",
       "Name: ScheduledDay_date, Length: 110527, dtype: object"
      ]
     },
     "execution_count": 1193,
     "metadata": {},
     "output_type": "execute_result"
    }
   ],
   "source": [
    "df['ScheduledDay_date'].sort_values()"
   ]
  },
  {
   "cell_type": "markdown",
   "id": "fbd02081",
   "metadata": {},
   "source": [
    "**It seems some patients scheduled the appointments months in advance.**"
   ]
  },
  {
   "cell_type": "markdown",
   "id": "4aad7c02",
   "metadata": {},
   "source": [
    "**Below, sort the dates of \"AppointmentDay_date\".**"
   ]
  },
  {
   "cell_type": "code",
   "execution_count": 1194,
   "id": "7e557322",
   "metadata": {},
   "outputs": [
    {
     "data": {
      "text/plain": [
       "0        2016-04-29\n",
       "2151     2016-04-29\n",
       "2152     2016-04-29\n",
       "2153     2016-04-29\n",
       "2154     2016-04-29\n",
       "            ...    \n",
       "92055    2016-06-08\n",
       "99217    2016-06-08\n",
       "99218    2016-06-08\n",
       "99224    2016-06-08\n",
       "91900    2016-06-08\n",
       "Name: AppointmentDay_date, Length: 110527, dtype: object"
      ]
     },
     "execution_count": 1194,
     "metadata": {},
     "output_type": "execute_result"
    }
   ],
   "source": [
    "df['AppointmentDay_date'].sort_values()"
   ]
  },
  {
   "cell_type": "markdown",
   "id": "0237542b",
   "metadata": {},
   "source": [
    "**All appointments in this dataset were from 04/29/2016 - 06/08/2016.**"
   ]
  },
  {
   "cell_type": "markdown",
   "id": "5c0196b3",
   "metadata": {},
   "source": [
    "**Below, use describe function to look and min/max values of this dataset.**"
   ]
  },
  {
   "cell_type": "code",
   "execution_count": 1196,
   "id": "3c64b6bd",
   "metadata": {},
   "outputs": [
    {
     "data": {
      "text/html": [
       "<div>\n",
       "<style scoped>\n",
       "    .dataframe tbody tr th:only-of-type {\n",
       "        vertical-align: middle;\n",
       "    }\n",
       "\n",
       "    .dataframe tbody tr th {\n",
       "        vertical-align: top;\n",
       "    }\n",
       "\n",
       "    .dataframe thead th {\n",
       "        text-align: right;\n",
       "    }\n",
       "</style>\n",
       "<table border=\"1\" class=\"dataframe\">\n",
       "  <thead>\n",
       "    <tr style=\"text-align: right;\">\n",
       "      <th></th>\n",
       "      <th>PatientId</th>\n",
       "      <th>AppointmentID</th>\n",
       "      <th>Age</th>\n",
       "      <th>Scholarship</th>\n",
       "      <th>Hypertension</th>\n",
       "      <th>Diabetes</th>\n",
       "      <th>Alcoholism</th>\n",
       "      <th>Handicap</th>\n",
       "      <th>SMS_received</th>\n",
       "      <th>ScheduledDay_month</th>\n",
       "      <th>AppointmentDay_month</th>\n",
       "      <th>Wait_Days</th>\n",
       "    </tr>\n",
       "  </thead>\n",
       "  <tbody>\n",
       "    <tr>\n",
       "      <th>count</th>\n",
       "      <td>1.105270e+05</td>\n",
       "      <td>1.105270e+05</td>\n",
       "      <td>110527.000000</td>\n",
       "      <td>110527.000000</td>\n",
       "      <td>110527.000000</td>\n",
       "      <td>110527.000000</td>\n",
       "      <td>110527.000000</td>\n",
       "      <td>110527.000000</td>\n",
       "      <td>110527.000000</td>\n",
       "      <td>110527.000000</td>\n",
       "      <td>110527.000000</td>\n",
       "      <td>110527.000000</td>\n",
       "    </tr>\n",
       "    <tr>\n",
       "      <th>mean</th>\n",
       "      <td>1.474963e+14</td>\n",
       "      <td>5.675305e+06</td>\n",
       "      <td>37.088874</td>\n",
       "      <td>0.098266</td>\n",
       "      <td>0.197246</td>\n",
       "      <td>0.071865</td>\n",
       "      <td>0.030400</td>\n",
       "      <td>0.022248</td>\n",
       "      <td>0.321026</td>\n",
       "      <td>4.823871</td>\n",
       "      <td>5.210048</td>\n",
       "      <td>10.183702</td>\n",
       "    </tr>\n",
       "    <tr>\n",
       "      <th>std</th>\n",
       "      <td>2.560949e+14</td>\n",
       "      <td>7.129575e+04</td>\n",
       "      <td>23.110205</td>\n",
       "      <td>0.297675</td>\n",
       "      <td>0.397921</td>\n",
       "      <td>0.258265</td>\n",
       "      <td>0.171686</td>\n",
       "      <td>0.161543</td>\n",
       "      <td>0.466873</td>\n",
       "      <td>0.715801</td>\n",
       "      <td>0.473780</td>\n",
       "      <td>15.254996</td>\n",
       "    </tr>\n",
       "    <tr>\n",
       "      <th>min</th>\n",
       "      <td>3.921700e+04</td>\n",
       "      <td>5.030230e+06</td>\n",
       "      <td>-1.000000</td>\n",
       "      <td>0.000000</td>\n",
       "      <td>0.000000</td>\n",
       "      <td>0.000000</td>\n",
       "      <td>0.000000</td>\n",
       "      <td>0.000000</td>\n",
       "      <td>0.000000</td>\n",
       "      <td>1.000000</td>\n",
       "      <td>4.000000</td>\n",
       "      <td>-6.000000</td>\n",
       "    </tr>\n",
       "    <tr>\n",
       "      <th>25%</th>\n",
       "      <td>4.172614e+12</td>\n",
       "      <td>5.640286e+06</td>\n",
       "      <td>18.000000</td>\n",
       "      <td>0.000000</td>\n",
       "      <td>0.000000</td>\n",
       "      <td>0.000000</td>\n",
       "      <td>0.000000</td>\n",
       "      <td>0.000000</td>\n",
       "      <td>0.000000</td>\n",
       "      <td>4.000000</td>\n",
       "      <td>5.000000</td>\n",
       "      <td>0.000000</td>\n",
       "    </tr>\n",
       "    <tr>\n",
       "      <th>50%</th>\n",
       "      <td>3.173184e+13</td>\n",
       "      <td>5.680573e+06</td>\n",
       "      <td>37.000000</td>\n",
       "      <td>0.000000</td>\n",
       "      <td>0.000000</td>\n",
       "      <td>0.000000</td>\n",
       "      <td>0.000000</td>\n",
       "      <td>0.000000</td>\n",
       "      <td>0.000000</td>\n",
       "      <td>5.000000</td>\n",
       "      <td>5.000000</td>\n",
       "      <td>4.000000</td>\n",
       "    </tr>\n",
       "    <tr>\n",
       "      <th>75%</th>\n",
       "      <td>9.439172e+13</td>\n",
       "      <td>5.725524e+06</td>\n",
       "      <td>55.000000</td>\n",
       "      <td>0.000000</td>\n",
       "      <td>0.000000</td>\n",
       "      <td>0.000000</td>\n",
       "      <td>0.000000</td>\n",
       "      <td>0.000000</td>\n",
       "      <td>1.000000</td>\n",
       "      <td>5.000000</td>\n",
       "      <td>5.000000</td>\n",
       "      <td>15.000000</td>\n",
       "    </tr>\n",
       "    <tr>\n",
       "      <th>max</th>\n",
       "      <td>9.999816e+14</td>\n",
       "      <td>5.790484e+06</td>\n",
       "      <td>115.000000</td>\n",
       "      <td>1.000000</td>\n",
       "      <td>1.000000</td>\n",
       "      <td>1.000000</td>\n",
       "      <td>1.000000</td>\n",
       "      <td>4.000000</td>\n",
       "      <td>1.000000</td>\n",
       "      <td>12.000000</td>\n",
       "      <td>6.000000</td>\n",
       "      <td>179.000000</td>\n",
       "    </tr>\n",
       "  </tbody>\n",
       "</table>\n",
       "</div>"
      ],
      "text/plain": [
       "          PatientId  AppointmentID            Age    Scholarship  \\\n",
       "count  1.105270e+05   1.105270e+05  110527.000000  110527.000000   \n",
       "mean   1.474963e+14   5.675305e+06      37.088874       0.098266   \n",
       "std    2.560949e+14   7.129575e+04      23.110205       0.297675   \n",
       "min    3.921700e+04   5.030230e+06      -1.000000       0.000000   \n",
       "25%    4.172614e+12   5.640286e+06      18.000000       0.000000   \n",
       "50%    3.173184e+13   5.680573e+06      37.000000       0.000000   \n",
       "75%    9.439172e+13   5.725524e+06      55.000000       0.000000   \n",
       "max    9.999816e+14   5.790484e+06     115.000000       1.000000   \n",
       "\n",
       "        Hypertension       Diabetes     Alcoholism       Handicap  \\\n",
       "count  110527.000000  110527.000000  110527.000000  110527.000000   \n",
       "mean        0.197246       0.071865       0.030400       0.022248   \n",
       "std         0.397921       0.258265       0.171686       0.161543   \n",
       "min         0.000000       0.000000       0.000000       0.000000   \n",
       "25%         0.000000       0.000000       0.000000       0.000000   \n",
       "50%         0.000000       0.000000       0.000000       0.000000   \n",
       "75%         0.000000       0.000000       0.000000       0.000000   \n",
       "max         1.000000       1.000000       1.000000       4.000000   \n",
       "\n",
       "        SMS_received  ScheduledDay_month  AppointmentDay_month      Wait_Days  \n",
       "count  110527.000000       110527.000000         110527.000000  110527.000000  \n",
       "mean        0.321026            4.823871              5.210048      10.183702  \n",
       "std         0.466873            0.715801              0.473780      15.254996  \n",
       "min         0.000000            1.000000              4.000000      -6.000000  \n",
       "25%         0.000000            4.000000              5.000000       0.000000  \n",
       "50%         0.000000            5.000000              5.000000       4.000000  \n",
       "75%         1.000000            5.000000              5.000000      15.000000  \n",
       "max         1.000000           12.000000              6.000000     179.000000  "
      ]
     },
     "execution_count": 1196,
     "metadata": {},
     "output_type": "execute_result"
    }
   ],
   "source": [
    "df.describe()"
   ]
  },
  {
   "cell_type": "markdown",
   "id": "ce5f984c",
   "metadata": {},
   "source": [
    "**There are some weird min values. The min value of the \"Age\" column is -1. This is not possible as a person has to be at least 0 years old. Also, the min \"Wait_Days\" is -6. This is not possible as well, as the shortest time a patient can wait is 0 days. We will need to delete rows with these values.**"
   ]
  },
  {
   "cell_type": "markdown",
   "id": "cdcfdf9b",
   "metadata": {},
   "source": [
    "**Below, find columns where \"Age\" is below 0.**"
   ]
  },
  {
   "cell_type": "code",
   "execution_count": 1197,
   "id": "e60b829c",
   "metadata": {},
   "outputs": [
    {
     "data": {
      "text/html": [
       "<div>\n",
       "<style scoped>\n",
       "    .dataframe tbody tr th:only-of-type {\n",
       "        vertical-align: middle;\n",
       "    }\n",
       "\n",
       "    .dataframe tbody tr th {\n",
       "        vertical-align: top;\n",
       "    }\n",
       "\n",
       "    .dataframe thead th {\n",
       "        text-align: right;\n",
       "    }\n",
       "</style>\n",
       "<table border=\"1\" class=\"dataframe\">\n",
       "  <thead>\n",
       "    <tr style=\"text-align: right;\">\n",
       "      <th></th>\n",
       "      <th>PatientId</th>\n",
       "      <th>AppointmentID</th>\n",
       "      <th>Gender</th>\n",
       "      <th>ScheduledDay</th>\n",
       "      <th>AppointmentDay</th>\n",
       "      <th>Age</th>\n",
       "      <th>Neighbourhood</th>\n",
       "      <th>Scholarship</th>\n",
       "      <th>Hypertension</th>\n",
       "      <th>Diabetes</th>\n",
       "      <th>...</th>\n",
       "      <th>Handicap</th>\n",
       "      <th>SMS_received</th>\n",
       "      <th>No-show</th>\n",
       "      <th>ScheduledDay_date</th>\n",
       "      <th>ScheduledDay_month</th>\n",
       "      <th>ScheduledDay_dow</th>\n",
       "      <th>AppointmentDay_date</th>\n",
       "      <th>AppointmentDay_month</th>\n",
       "      <th>AppointmentDay_dow</th>\n",
       "      <th>Wait_Days</th>\n",
       "    </tr>\n",
       "  </thead>\n",
       "  <tbody>\n",
       "    <tr>\n",
       "      <th>99832</th>\n",
       "      <td>465943158731293</td>\n",
       "      <td>5775010</td>\n",
       "      <td>F</td>\n",
       "      <td>2016-06-06 08:58:13+00:00</td>\n",
       "      <td>2016-06-06 00:00:00+00:00</td>\n",
       "      <td>-1</td>\n",
       "      <td>ROMÃO</td>\n",
       "      <td>0</td>\n",
       "      <td>0</td>\n",
       "      <td>0</td>\n",
       "      <td>...</td>\n",
       "      <td>0</td>\n",
       "      <td>0</td>\n",
       "      <td>No</td>\n",
       "      <td>2016-06-06</td>\n",
       "      <td>6</td>\n",
       "      <td>Monday</td>\n",
       "      <td>2016-06-06</td>\n",
       "      <td>6</td>\n",
       "      <td>Monday</td>\n",
       "      <td>0</td>\n",
       "    </tr>\n",
       "  </tbody>\n",
       "</table>\n",
       "<p>1 rows × 21 columns</p>\n",
       "</div>"
      ],
      "text/plain": [
       "             PatientId  AppointmentID Gender              ScheduledDay  \\\n",
       "99832  465943158731293        5775010      F 2016-06-06 08:58:13+00:00   \n",
       "\n",
       "                 AppointmentDay  Age Neighbourhood  Scholarship  Hypertension  \\\n",
       "99832 2016-06-06 00:00:00+00:00   -1         ROMÃO            0             0   \n",
       "\n",
       "       Diabetes  ...  Handicap  SMS_received  No-show ScheduledDay_date  \\\n",
       "99832         0  ...         0             0       No        2016-06-06   \n",
       "\n",
       "      ScheduledDay_month  ScheduledDay_dow AppointmentDay_date  \\\n",
       "99832                  6            Monday          2016-06-06   \n",
       "\n",
       "      AppointmentDay_month  AppointmentDay_dow Wait_Days  \n",
       "99832                    6              Monday         0  \n",
       "\n",
       "[1 rows x 21 columns]"
      ]
     },
     "execution_count": 1197,
     "metadata": {},
     "output_type": "execute_result"
    }
   ],
   "source": [
    "df.query('Age<0')"
   ]
  },
  {
   "cell_type": "markdown",
   "id": "b3cd667a",
   "metadata": {},
   "source": [
    "**Drop row where Age is below zero.**"
   ]
  },
  {
   "cell_type": "code",
   "execution_count": 1198,
   "id": "7d978e9d",
   "metadata": {},
   "outputs": [],
   "source": [
    "df.drop(axis=0,index=99832,inplace=True)"
   ]
  },
  {
   "cell_type": "markdown",
   "id": "219c39e9",
   "metadata": {},
   "source": [
    "**Check again for any rows where \"Age\" is below 0.**"
   ]
  },
  {
   "cell_type": "code",
   "execution_count": 1199,
   "id": "2b3eb590",
   "metadata": {},
   "outputs": [
    {
     "data": {
      "text/html": [
       "<div>\n",
       "<style scoped>\n",
       "    .dataframe tbody tr th:only-of-type {\n",
       "        vertical-align: middle;\n",
       "    }\n",
       "\n",
       "    .dataframe tbody tr th {\n",
       "        vertical-align: top;\n",
       "    }\n",
       "\n",
       "    .dataframe thead th {\n",
       "        text-align: right;\n",
       "    }\n",
       "</style>\n",
       "<table border=\"1\" class=\"dataframe\">\n",
       "  <thead>\n",
       "    <tr style=\"text-align: right;\">\n",
       "      <th></th>\n",
       "      <th>PatientId</th>\n",
       "      <th>AppointmentID</th>\n",
       "      <th>Gender</th>\n",
       "      <th>ScheduledDay</th>\n",
       "      <th>AppointmentDay</th>\n",
       "      <th>Age</th>\n",
       "      <th>Neighbourhood</th>\n",
       "      <th>Scholarship</th>\n",
       "      <th>Hypertension</th>\n",
       "      <th>Diabetes</th>\n",
       "      <th>...</th>\n",
       "      <th>Handicap</th>\n",
       "      <th>SMS_received</th>\n",
       "      <th>No-show</th>\n",
       "      <th>ScheduledDay_date</th>\n",
       "      <th>ScheduledDay_month</th>\n",
       "      <th>ScheduledDay_dow</th>\n",
       "      <th>AppointmentDay_date</th>\n",
       "      <th>AppointmentDay_month</th>\n",
       "      <th>AppointmentDay_dow</th>\n",
       "      <th>Wait_Days</th>\n",
       "    </tr>\n",
       "  </thead>\n",
       "  <tbody>\n",
       "  </tbody>\n",
       "</table>\n",
       "<p>0 rows × 21 columns</p>\n",
       "</div>"
      ],
      "text/plain": [
       "Empty DataFrame\n",
       "Columns: [PatientId, AppointmentID, Gender, ScheduledDay, AppointmentDay, Age, Neighbourhood, Scholarship, Hypertension, Diabetes, Alcoholism, Handicap, SMS_received, No-show, ScheduledDay_date, ScheduledDay_month, ScheduledDay_dow, AppointmentDay_date, AppointmentDay_month, AppointmentDay_dow, Wait_Days]\n",
       "Index: []\n",
       "\n",
       "[0 rows x 21 columns]"
      ]
     },
     "execution_count": 1199,
     "metadata": {},
     "output_type": "execute_result"
    }
   ],
   "source": [
    "df.query('Age<0')"
   ]
  },
  {
   "cell_type": "markdown",
   "id": "d055ab19",
   "metadata": {},
   "source": [
    "**Below, find columns where \"Wait Days\" is below 0.**"
   ]
  },
  {
   "cell_type": "code",
   "execution_count": 1200,
   "id": "28bec129",
   "metadata": {},
   "outputs": [
    {
     "data": {
      "text/html": [
       "<div>\n",
       "<style scoped>\n",
       "    .dataframe tbody tr th:only-of-type {\n",
       "        vertical-align: middle;\n",
       "    }\n",
       "\n",
       "    .dataframe tbody tr th {\n",
       "        vertical-align: top;\n",
       "    }\n",
       "\n",
       "    .dataframe thead th {\n",
       "        text-align: right;\n",
       "    }\n",
       "</style>\n",
       "<table border=\"1\" class=\"dataframe\">\n",
       "  <thead>\n",
       "    <tr style=\"text-align: right;\">\n",
       "      <th></th>\n",
       "      <th>PatientId</th>\n",
       "      <th>AppointmentID</th>\n",
       "      <th>Gender</th>\n",
       "      <th>ScheduledDay</th>\n",
       "      <th>AppointmentDay</th>\n",
       "      <th>Age</th>\n",
       "      <th>Neighbourhood</th>\n",
       "      <th>Scholarship</th>\n",
       "      <th>Hypertension</th>\n",
       "      <th>Diabetes</th>\n",
       "      <th>...</th>\n",
       "      <th>Handicap</th>\n",
       "      <th>SMS_received</th>\n",
       "      <th>No-show</th>\n",
       "      <th>ScheduledDay_date</th>\n",
       "      <th>ScheduledDay_month</th>\n",
       "      <th>ScheduledDay_dow</th>\n",
       "      <th>AppointmentDay_date</th>\n",
       "      <th>AppointmentDay_month</th>\n",
       "      <th>AppointmentDay_dow</th>\n",
       "      <th>Wait_Days</th>\n",
       "    </tr>\n",
       "  </thead>\n",
       "  <tbody>\n",
       "    <tr>\n",
       "      <th>27033</th>\n",
       "      <td>7839272661752</td>\n",
       "      <td>5679978</td>\n",
       "      <td>M</td>\n",
       "      <td>2016-05-10 10:51:53+00:00</td>\n",
       "      <td>2016-05-09 00:00:00+00:00</td>\n",
       "      <td>38</td>\n",
       "      <td>RESISTÊNCIA</td>\n",
       "      <td>0</td>\n",
       "      <td>0</td>\n",
       "      <td>0</td>\n",
       "      <td>...</td>\n",
       "      <td>1</td>\n",
       "      <td>0</td>\n",
       "      <td>Yes</td>\n",
       "      <td>2016-05-10</td>\n",
       "      <td>5</td>\n",
       "      <td>Tuesday</td>\n",
       "      <td>2016-05-09</td>\n",
       "      <td>5</td>\n",
       "      <td>Monday</td>\n",
       "      <td>-1</td>\n",
       "    </tr>\n",
       "    <tr>\n",
       "      <th>55226</th>\n",
       "      <td>7896293967868</td>\n",
       "      <td>5715660</td>\n",
       "      <td>F</td>\n",
       "      <td>2016-05-18 14:50:41+00:00</td>\n",
       "      <td>2016-05-17 00:00:00+00:00</td>\n",
       "      <td>19</td>\n",
       "      <td>SANTO ANTÔNIO</td>\n",
       "      <td>0</td>\n",
       "      <td>0</td>\n",
       "      <td>0</td>\n",
       "      <td>...</td>\n",
       "      <td>1</td>\n",
       "      <td>0</td>\n",
       "      <td>Yes</td>\n",
       "      <td>2016-05-18</td>\n",
       "      <td>5</td>\n",
       "      <td>Wednesday</td>\n",
       "      <td>2016-05-17</td>\n",
       "      <td>5</td>\n",
       "      <td>Tuesday</td>\n",
       "      <td>-1</td>\n",
       "    </tr>\n",
       "    <tr>\n",
       "      <th>64175</th>\n",
       "      <td>24252258389979</td>\n",
       "      <td>5664962</td>\n",
       "      <td>F</td>\n",
       "      <td>2016-05-05 13:43:58+00:00</td>\n",
       "      <td>2016-05-04 00:00:00+00:00</td>\n",
       "      <td>22</td>\n",
       "      <td>CONSOLAÇÃO</td>\n",
       "      <td>0</td>\n",
       "      <td>0</td>\n",
       "      <td>0</td>\n",
       "      <td>...</td>\n",
       "      <td>0</td>\n",
       "      <td>0</td>\n",
       "      <td>Yes</td>\n",
       "      <td>2016-05-05</td>\n",
       "      <td>5</td>\n",
       "      <td>Thursday</td>\n",
       "      <td>2016-05-04</td>\n",
       "      <td>5</td>\n",
       "      <td>Wednesday</td>\n",
       "      <td>-1</td>\n",
       "    </tr>\n",
       "    <tr>\n",
       "      <th>71533</th>\n",
       "      <td>998231581612122</td>\n",
       "      <td>5686628</td>\n",
       "      <td>F</td>\n",
       "      <td>2016-05-11 13:49:20+00:00</td>\n",
       "      <td>2016-05-05 00:00:00+00:00</td>\n",
       "      <td>81</td>\n",
       "      <td>SANTO ANTÔNIO</td>\n",
       "      <td>0</td>\n",
       "      <td>0</td>\n",
       "      <td>0</td>\n",
       "      <td>...</td>\n",
       "      <td>0</td>\n",
       "      <td>0</td>\n",
       "      <td>Yes</td>\n",
       "      <td>2016-05-11</td>\n",
       "      <td>5</td>\n",
       "      <td>Wednesday</td>\n",
       "      <td>2016-05-05</td>\n",
       "      <td>5</td>\n",
       "      <td>Thursday</td>\n",
       "      <td>-6</td>\n",
       "    </tr>\n",
       "    <tr>\n",
       "      <th>72362</th>\n",
       "      <td>3787481966821</td>\n",
       "      <td>5655637</td>\n",
       "      <td>M</td>\n",
       "      <td>2016-05-04 06:50:57+00:00</td>\n",
       "      <td>2016-05-03 00:00:00+00:00</td>\n",
       "      <td>7</td>\n",
       "      <td>TABUAZEIRO</td>\n",
       "      <td>0</td>\n",
       "      <td>0</td>\n",
       "      <td>0</td>\n",
       "      <td>...</td>\n",
       "      <td>0</td>\n",
       "      <td>0</td>\n",
       "      <td>Yes</td>\n",
       "      <td>2016-05-04</td>\n",
       "      <td>5</td>\n",
       "      <td>Wednesday</td>\n",
       "      <td>2016-05-03</td>\n",
       "      <td>5</td>\n",
       "      <td>Tuesday</td>\n",
       "      <td>-1</td>\n",
       "    </tr>\n",
       "  </tbody>\n",
       "</table>\n",
       "<p>5 rows × 21 columns</p>\n",
       "</div>"
      ],
      "text/plain": [
       "             PatientId  AppointmentID Gender              ScheduledDay  \\\n",
       "27033    7839272661752        5679978      M 2016-05-10 10:51:53+00:00   \n",
       "55226    7896293967868        5715660      F 2016-05-18 14:50:41+00:00   \n",
       "64175   24252258389979        5664962      F 2016-05-05 13:43:58+00:00   \n",
       "71533  998231581612122        5686628      F 2016-05-11 13:49:20+00:00   \n",
       "72362    3787481966821        5655637      M 2016-05-04 06:50:57+00:00   \n",
       "\n",
       "                 AppointmentDay  Age  Neighbourhood  Scholarship  \\\n",
       "27033 2016-05-09 00:00:00+00:00   38    RESISTÊNCIA            0   \n",
       "55226 2016-05-17 00:00:00+00:00   19  SANTO ANTÔNIO            0   \n",
       "64175 2016-05-04 00:00:00+00:00   22     CONSOLAÇÃO            0   \n",
       "71533 2016-05-05 00:00:00+00:00   81  SANTO ANTÔNIO            0   \n",
       "72362 2016-05-03 00:00:00+00:00    7     TABUAZEIRO            0   \n",
       "\n",
       "       Hypertension  Diabetes  ...  Handicap  SMS_received  No-show  \\\n",
       "27033             0         0  ...         1             0      Yes   \n",
       "55226             0         0  ...         1             0      Yes   \n",
       "64175             0         0  ...         0             0      Yes   \n",
       "71533             0         0  ...         0             0      Yes   \n",
       "72362             0         0  ...         0             0      Yes   \n",
       "\n",
       "      ScheduledDay_date ScheduledDay_month  ScheduledDay_dow  \\\n",
       "27033        2016-05-10                  5           Tuesday   \n",
       "55226        2016-05-18                  5         Wednesday   \n",
       "64175        2016-05-05                  5          Thursday   \n",
       "71533        2016-05-11                  5         Wednesday   \n",
       "72362        2016-05-04                  5         Wednesday   \n",
       "\n",
       "      AppointmentDay_date AppointmentDay_month  AppointmentDay_dow Wait_Days  \n",
       "27033          2016-05-09                    5              Monday        -1  \n",
       "55226          2016-05-17                    5             Tuesday        -1  \n",
       "64175          2016-05-04                    5           Wednesday        -1  \n",
       "71533          2016-05-05                    5            Thursday        -6  \n",
       "72362          2016-05-03                    5             Tuesday        -1  \n",
       "\n",
       "[5 rows x 21 columns]"
      ]
     },
     "execution_count": 1200,
     "metadata": {},
     "output_type": "execute_result"
    }
   ],
   "source": [
    "df.query('Wait_Days<0')"
   ]
  },
  {
   "cell_type": "markdown",
   "id": "8d1772ad",
   "metadata": {},
   "source": [
    "**Drop rows where Wait_Days is below zero.**"
   ]
  },
  {
   "cell_type": "code",
   "execution_count": 1201,
   "id": "b3a96aea",
   "metadata": {},
   "outputs": [],
   "source": [
    "df.drop(df.index[[27033,55226,64175,71533,72362]],inplace=True)"
   ]
  },
  {
   "cell_type": "markdown",
   "id": "1525784a",
   "metadata": {},
   "source": [
    "**Check again for any rows where \"Wait_Days\" is below 0.**"
   ]
  },
  {
   "cell_type": "code",
   "execution_count": 1202,
   "id": "9ab3bae6",
   "metadata": {},
   "outputs": [
    {
     "data": {
      "text/html": [
       "<div>\n",
       "<style scoped>\n",
       "    .dataframe tbody tr th:only-of-type {\n",
       "        vertical-align: middle;\n",
       "    }\n",
       "\n",
       "    .dataframe tbody tr th {\n",
       "        vertical-align: top;\n",
       "    }\n",
       "\n",
       "    .dataframe thead th {\n",
       "        text-align: right;\n",
       "    }\n",
       "</style>\n",
       "<table border=\"1\" class=\"dataframe\">\n",
       "  <thead>\n",
       "    <tr style=\"text-align: right;\">\n",
       "      <th></th>\n",
       "      <th>PatientId</th>\n",
       "      <th>AppointmentID</th>\n",
       "      <th>Gender</th>\n",
       "      <th>ScheduledDay</th>\n",
       "      <th>AppointmentDay</th>\n",
       "      <th>Age</th>\n",
       "      <th>Neighbourhood</th>\n",
       "      <th>Scholarship</th>\n",
       "      <th>Hypertension</th>\n",
       "      <th>Diabetes</th>\n",
       "      <th>...</th>\n",
       "      <th>Handicap</th>\n",
       "      <th>SMS_received</th>\n",
       "      <th>No-show</th>\n",
       "      <th>ScheduledDay_date</th>\n",
       "      <th>ScheduledDay_month</th>\n",
       "      <th>ScheduledDay_dow</th>\n",
       "      <th>AppointmentDay_date</th>\n",
       "      <th>AppointmentDay_month</th>\n",
       "      <th>AppointmentDay_dow</th>\n",
       "      <th>Wait_Days</th>\n",
       "    </tr>\n",
       "  </thead>\n",
       "  <tbody>\n",
       "  </tbody>\n",
       "</table>\n",
       "<p>0 rows × 21 columns</p>\n",
       "</div>"
      ],
      "text/plain": [
       "Empty DataFrame\n",
       "Columns: [PatientId, AppointmentID, Gender, ScheduledDay, AppointmentDay, Age, Neighbourhood, Scholarship, Hypertension, Diabetes, Alcoholism, Handicap, SMS_received, No-show, ScheduledDay_date, ScheduledDay_month, ScheduledDay_dow, AppointmentDay_date, AppointmentDay_month, AppointmentDay_dow, Wait_Days]\n",
       "Index: []\n",
       "\n",
       "[0 rows x 21 columns]"
      ]
     },
     "execution_count": 1202,
     "metadata": {},
     "output_type": "execute_result"
    }
   ],
   "source": [
    "df.query('Wait_Days<0')"
   ]
  },
  {
   "cell_type": "markdown",
   "id": "47780473",
   "metadata": {},
   "source": [
    "**Check the first five rows of the cleaned dataset.**"
   ]
  },
  {
   "cell_type": "code",
   "execution_count": 1203,
   "id": "4f0d70c2",
   "metadata": {},
   "outputs": [
    {
     "data": {
      "text/html": [
       "<div>\n",
       "<style scoped>\n",
       "    .dataframe tbody tr th:only-of-type {\n",
       "        vertical-align: middle;\n",
       "    }\n",
       "\n",
       "    .dataframe tbody tr th {\n",
       "        vertical-align: top;\n",
       "    }\n",
       "\n",
       "    .dataframe thead th {\n",
       "        text-align: right;\n",
       "    }\n",
       "</style>\n",
       "<table border=\"1\" class=\"dataframe\">\n",
       "  <thead>\n",
       "    <tr style=\"text-align: right;\">\n",
       "      <th></th>\n",
       "      <th>PatientId</th>\n",
       "      <th>AppointmentID</th>\n",
       "      <th>Gender</th>\n",
       "      <th>ScheduledDay</th>\n",
       "      <th>AppointmentDay</th>\n",
       "      <th>Age</th>\n",
       "      <th>Neighbourhood</th>\n",
       "      <th>Scholarship</th>\n",
       "      <th>Hypertension</th>\n",
       "      <th>Diabetes</th>\n",
       "      <th>...</th>\n",
       "      <th>Handicap</th>\n",
       "      <th>SMS_received</th>\n",
       "      <th>No-show</th>\n",
       "      <th>ScheduledDay_date</th>\n",
       "      <th>ScheduledDay_month</th>\n",
       "      <th>ScheduledDay_dow</th>\n",
       "      <th>AppointmentDay_date</th>\n",
       "      <th>AppointmentDay_month</th>\n",
       "      <th>AppointmentDay_dow</th>\n",
       "      <th>Wait_Days</th>\n",
       "    </tr>\n",
       "  </thead>\n",
       "  <tbody>\n",
       "    <tr>\n",
       "      <th>0</th>\n",
       "      <td>29872499824296</td>\n",
       "      <td>5642903</td>\n",
       "      <td>F</td>\n",
       "      <td>2016-04-29 18:38:08+00:00</td>\n",
       "      <td>2016-04-29 00:00:00+00:00</td>\n",
       "      <td>62</td>\n",
       "      <td>JARDIM DA PENHA</td>\n",
       "      <td>0</td>\n",
       "      <td>1</td>\n",
       "      <td>0</td>\n",
       "      <td>...</td>\n",
       "      <td>0</td>\n",
       "      <td>0</td>\n",
       "      <td>No</td>\n",
       "      <td>2016-04-29</td>\n",
       "      <td>4</td>\n",
       "      <td>Friday</td>\n",
       "      <td>2016-04-29</td>\n",
       "      <td>4</td>\n",
       "      <td>Friday</td>\n",
       "      <td>0</td>\n",
       "    </tr>\n",
       "    <tr>\n",
       "      <th>1</th>\n",
       "      <td>558997776694438</td>\n",
       "      <td>5642503</td>\n",
       "      <td>M</td>\n",
       "      <td>2016-04-29 16:08:27+00:00</td>\n",
       "      <td>2016-04-29 00:00:00+00:00</td>\n",
       "      <td>56</td>\n",
       "      <td>JARDIM DA PENHA</td>\n",
       "      <td>0</td>\n",
       "      <td>0</td>\n",
       "      <td>0</td>\n",
       "      <td>...</td>\n",
       "      <td>0</td>\n",
       "      <td>0</td>\n",
       "      <td>No</td>\n",
       "      <td>2016-04-29</td>\n",
       "      <td>4</td>\n",
       "      <td>Friday</td>\n",
       "      <td>2016-04-29</td>\n",
       "      <td>4</td>\n",
       "      <td>Friday</td>\n",
       "      <td>0</td>\n",
       "    </tr>\n",
       "    <tr>\n",
       "      <th>2</th>\n",
       "      <td>4262962299951</td>\n",
       "      <td>5642549</td>\n",
       "      <td>F</td>\n",
       "      <td>2016-04-29 16:19:04+00:00</td>\n",
       "      <td>2016-04-29 00:00:00+00:00</td>\n",
       "      <td>62</td>\n",
       "      <td>MATA DA PRAIA</td>\n",
       "      <td>0</td>\n",
       "      <td>0</td>\n",
       "      <td>0</td>\n",
       "      <td>...</td>\n",
       "      <td>0</td>\n",
       "      <td>0</td>\n",
       "      <td>No</td>\n",
       "      <td>2016-04-29</td>\n",
       "      <td>4</td>\n",
       "      <td>Friday</td>\n",
       "      <td>2016-04-29</td>\n",
       "      <td>4</td>\n",
       "      <td>Friday</td>\n",
       "      <td>0</td>\n",
       "    </tr>\n",
       "    <tr>\n",
       "      <th>3</th>\n",
       "      <td>867951213174</td>\n",
       "      <td>5642828</td>\n",
       "      <td>F</td>\n",
       "      <td>2016-04-29 17:29:31+00:00</td>\n",
       "      <td>2016-04-29 00:00:00+00:00</td>\n",
       "      <td>8</td>\n",
       "      <td>PONTAL DE CAMBURI</td>\n",
       "      <td>0</td>\n",
       "      <td>0</td>\n",
       "      <td>0</td>\n",
       "      <td>...</td>\n",
       "      <td>0</td>\n",
       "      <td>0</td>\n",
       "      <td>No</td>\n",
       "      <td>2016-04-29</td>\n",
       "      <td>4</td>\n",
       "      <td>Friday</td>\n",
       "      <td>2016-04-29</td>\n",
       "      <td>4</td>\n",
       "      <td>Friday</td>\n",
       "      <td>0</td>\n",
       "    </tr>\n",
       "    <tr>\n",
       "      <th>4</th>\n",
       "      <td>8841186448183</td>\n",
       "      <td>5642494</td>\n",
       "      <td>F</td>\n",
       "      <td>2016-04-29 16:07:23+00:00</td>\n",
       "      <td>2016-04-29 00:00:00+00:00</td>\n",
       "      <td>56</td>\n",
       "      <td>JARDIM DA PENHA</td>\n",
       "      <td>0</td>\n",
       "      <td>1</td>\n",
       "      <td>1</td>\n",
       "      <td>...</td>\n",
       "      <td>0</td>\n",
       "      <td>0</td>\n",
       "      <td>No</td>\n",
       "      <td>2016-04-29</td>\n",
       "      <td>4</td>\n",
       "      <td>Friday</td>\n",
       "      <td>2016-04-29</td>\n",
       "      <td>4</td>\n",
       "      <td>Friday</td>\n",
       "      <td>0</td>\n",
       "    </tr>\n",
       "  </tbody>\n",
       "</table>\n",
       "<p>5 rows × 21 columns</p>\n",
       "</div>"
      ],
      "text/plain": [
       "         PatientId  AppointmentID Gender              ScheduledDay  \\\n",
       "0   29872499824296        5642903      F 2016-04-29 18:38:08+00:00   \n",
       "1  558997776694438        5642503      M 2016-04-29 16:08:27+00:00   \n",
       "2    4262962299951        5642549      F 2016-04-29 16:19:04+00:00   \n",
       "3     867951213174        5642828      F 2016-04-29 17:29:31+00:00   \n",
       "4    8841186448183        5642494      F 2016-04-29 16:07:23+00:00   \n",
       "\n",
       "             AppointmentDay  Age      Neighbourhood  Scholarship  \\\n",
       "0 2016-04-29 00:00:00+00:00   62    JARDIM DA PENHA            0   \n",
       "1 2016-04-29 00:00:00+00:00   56    JARDIM DA PENHA            0   \n",
       "2 2016-04-29 00:00:00+00:00   62      MATA DA PRAIA            0   \n",
       "3 2016-04-29 00:00:00+00:00    8  PONTAL DE CAMBURI            0   \n",
       "4 2016-04-29 00:00:00+00:00   56    JARDIM DA PENHA            0   \n",
       "\n",
       "   Hypertension  Diabetes  ...  Handicap  SMS_received  No-show  \\\n",
       "0             1         0  ...         0             0       No   \n",
       "1             0         0  ...         0             0       No   \n",
       "2             0         0  ...         0             0       No   \n",
       "3             0         0  ...         0             0       No   \n",
       "4             1         1  ...         0             0       No   \n",
       "\n",
       "  ScheduledDay_date ScheduledDay_month  ScheduledDay_dow AppointmentDay_date  \\\n",
       "0        2016-04-29                  4            Friday          2016-04-29   \n",
       "1        2016-04-29                  4            Friday          2016-04-29   \n",
       "2        2016-04-29                  4            Friday          2016-04-29   \n",
       "3        2016-04-29                  4            Friday          2016-04-29   \n",
       "4        2016-04-29                  4            Friday          2016-04-29   \n",
       "\n",
       "  AppointmentDay_month  AppointmentDay_dow Wait_Days  \n",
       "0                    4              Friday         0  \n",
       "1                    4              Friday         0  \n",
       "2                    4              Friday         0  \n",
       "3                    4              Friday         0  \n",
       "4                    4              Friday         0  \n",
       "\n",
       "[5 rows x 21 columns]"
      ]
     },
     "execution_count": 1203,
     "metadata": {},
     "output_type": "execute_result"
    }
   ],
   "source": [
    "df.head()"
   ]
  },
  {
   "cell_type": "markdown",
   "id": "d65109e7",
   "metadata": {},
   "source": [
    "## Exploratory Data Analysis with Visuals\n",
    "\n"
   ]
  },
  {
   "cell_type": "markdown",
   "id": "45b837c4",
   "metadata": {},
   "source": [
    "**Make Pie Chart showing overall percentage of No-Show Appointments.**"
   ]
  },
  {
   "cell_type": "code",
   "execution_count": 1360,
   "id": "764446b2",
   "metadata": {},
   "outputs": [
    {
     "data": {
      "text/plain": [
       "Text(0.5, 1.0, 'Appointment Overall No-Show Percentage')"
      ]
     },
     "execution_count": 1360,
     "metadata": {},
     "output_type": "execute_result"
    },
    {
     "data": {
      "image/png": "[encoded data removed]",
      "text/plain": [
       "<Figure size 432x432 with 1 Axes>"
      ]
     },
     "metadata": {},
     "output_type": "display_data"
    }
   ],
   "source": [
    "plt.figure(figsize=(6,6))\n",
    "pie_chart_data = df.groupby(\"No-show\").count()\n",
    "my_labels = 'No','Yes'\n",
    "ax_01_01 = plt.pie(data=pie_chart_data,x=\"PatientId\",labels=my_labels,autopct='%1.1f%%')\n",
    "plt.legend(loc='upper right')\n",
    "plt.title('Appointment Overall No-Show Percentage')"
   ]
  },
  {
   "cell_type": "markdown",
   "id": "d54e20ff",
   "metadata": {},
   "source": [
    "* **Overall, 20.2 percent of patients did not show up at their appointment.**\n",
    "* **79.8 percent of patients showed up at their appointment.**"
   ]
  },
  {
   "cell_type": "markdown",
   "id": "a8739242",
   "metadata": {},
   "source": [
    "**Below, make pie chart exploring the percentage of no-shows amongst patients with hypertension.**"
   ]
  },
  {
   "cell_type": "code",
   "execution_count": 1363,
   "id": "76be3ffd",
   "metadata": {},
   "outputs": [
    {
     "data": {
      "text/plain": [
       "Text(0.5, 1.0, 'Patients with Hypertension No-Show Percentage')"
      ]
     },
     "execution_count": 1363,
     "metadata": {},
     "output_type": "execute_result"
    },
    {
     "data": {
      "image/png": "[encoded data removed]",
      "text/plain": [
       "<Figure size 432x432 with 1 Axes>"
      ]
     },
     "metadata": {},
     "output_type": "display_data"
    }
   ],
   "source": [
    "plt.figure(figsize=(6,6))\n",
    "pie_chart_hypertension = df[df[\"Hypertension\"]==1].groupby(\"No-show\").count()\n",
    "my_labels = 'No','Yes'\n",
    "ax_14 = plt.pie(data=pie_chart_hypertension,x=\"PatientId\",labels=my_labels,autopct='%1.1f%%')\n",
    "plt.legend(loc='upper right')\n",
    "plt.title('Patients with Hypertension No-Show Percentage')"
   ]
  },
  {
   "cell_type": "markdown",
   "id": "9ecd20cf",
   "metadata": {},
   "source": [
    "* **The no-show rate for patients with hypertension is 17.3% and is lower than the average of 20.2%**"
   ]
  },
  {
   "cell_type": "markdown",
   "id": "0281c16f",
   "metadata": {},
   "source": [
    "**Below, make pie chart exploring the percentage of no-shows amongst patients with alcoholism.**"
   ]
  },
  {
   "cell_type": "code",
   "execution_count": 1364,
   "id": "8329dcba",
   "metadata": {},
   "outputs": [
    {
     "data": {
      "text/plain": [
       "Text(0.5, 1.0, 'Patients with Alcoholism No-Show Percentage')"
      ]
     },
     "execution_count": 1364,
     "metadata": {},
     "output_type": "execute_result"
    },
    {
     "data": {
      "image/png": "[encoded data removed]",
      "text/plain": [
       "<Figure size 432x432 with 1 Axes>"
      ]
     },
     "metadata": {},
     "output_type": "display_data"
    }
   ],
   "source": [
    "plt.figure(figsize=(6,6))\n",
    "pie_chart_alcohol = df[df[\"Alcoholism\"]==1].groupby(\"No-show\").count()\n",
    "my_labels = 'No','Yes'\n",
    "ax_14 = plt.pie(data=pie_chart_alcohol,x=\"Alcoholism\",labels=my_labels,autopct='%1.1f%%')\n",
    "plt.legend(loc='upper right')\n",
    "plt.title('Patients with Alcoholism No-Show Percentage')"
   ]
  },
  {
   "cell_type": "markdown",
   "id": "6bde689e",
   "metadata": {},
   "source": [
    "* **Patients with alcoholism have a no-show rate of 20.1 which is around the average no-show rate. Alcoholism does not influence no-show rates.**"
   ]
  },
  {
   "cell_type": "markdown",
   "id": "a9b8dd88",
   "metadata": {},
   "source": [
    "**Below, make function to calculate percentage of no-shows.**"
   ]
  },
  {
   "cell_type": "code",
   "execution_count": 1365,
   "id": "74088b8c",
   "metadata": {},
   "outputs": [],
   "source": [
    "def no_show_percentage(data, column):\n",
    "\n",
    "    #no show count by column\n",
    "    no_show = data[data[\"No-show\"]==\"Yes\"].groupby(column).count()[\"PatientId\"]\n",
    "    #all count by column\n",
    "    all_appoint = data.groupby(column).count()[\"PatientId\"]\n",
    "    #percentage of no-shows by column\n",
    "    month_percent = (no_show/all_appoint)*100\n",
    "\n",
    "    return month_percent"
   ]
  },
  {
   "cell_type": "markdown",
   "id": "bac3dbe6",
   "metadata": {},
   "source": [
    "**Make bar chart exploring if gender has any influence in not showing up for an appointment.**"
   ]
  },
  {
   "cell_type": "code",
   "execution_count": 1366,
   "id": "9b5caec8",
   "metadata": {},
   "outputs": [
    {
     "data": {
      "image/png": "[encoded data removed]",
      "text/plain": [
       "<Figure size 432x432 with 1 Axes>"
      ]
     },
     "metadata": {
      "needs_background": "light"
     },
     "output_type": "display_data"
    }
   ],
   "source": [
    "plt.figure(figsize=(6,6))\n",
    "ax_01 = no_show_percentage(data=df,column=\"Gender\").plot(kind='bar')\n",
    "ax_01.set_title(\"Percentage of No-Shows by Gender\")\n",
    "ax_01.set_ylabel(\"Percent of No-Shows/%\")\n",
    "ax_01.set_xlabel(\"Gender\")\n",
    "ax_01 = plt.gca()\n",
    "ax_01.tick_params(axis='x', labelrotation = 0)\n",
    "plt.show()"
   ]
  },
  {
   "cell_type": "markdown",
   "id": "e0cd0bd5",
   "metadata": {},
   "source": [
    "* **Gender does not influence missing an appointment as the no-show proportions amongst males and females are about the same.**"
   ]
  },
  {
   "cell_type": "markdown",
   "id": "62c8faf9",
   "metadata": {},
   "source": [
    "**Below, make bar chart exploring if receiving a scholarship has any influence in not showing up for an appointment.**"
   ]
  },
  {
   "cell_type": "code",
   "execution_count": 1367,
   "id": "c0159557",
   "metadata": {},
   "outputs": [
    {
     "data": {
      "text/plain": [
       "[Text(0, 0, 'Not Received'), Text(1, 0, 'Received')]"
      ]
     },
     "execution_count": 1367,
     "metadata": {},
     "output_type": "execute_result"
    },
    {
     "data": {
      "image/png": "[encoded data removed]",
      "text/plain": [
       "<Figure size 432x432 with 1 Axes>"
      ]
     },
     "metadata": {
      "needs_background": "light"
     },
     "output_type": "display_data"
    }
   ],
   "source": [
    "plt.figure(figsize=(6,6))\n",
    "ax02 = no_show_percentage(data=df,column=\"Scholarship\").plot(kind='bar')\n",
    "ax02.set_title(\"Appointment No-Show Relation by Scholarship\")\n",
    "ax02.set_ylabel(\"Percent of No-Shows/%\")\n",
    "#ticks\n",
    "labels = [item.get_text() for item in ax03.get_xticklabels()]\n",
    "labels[0] = 'Not Received'\n",
    "labels[1] = 'Received'\n",
    "ax02.set_xticklabels(labels)"
   ]
  },
  {
   "cell_type": "markdown",
   "id": "31b8acae",
   "metadata": {},
   "source": [
    "* **A patient is more likely to not show up at an appointment if receiving a scholarship.**"
   ]
  },
  {
   "cell_type": "markdown",
   "id": "2b32410d",
   "metadata": {},
   "source": [
    "**Below, make bar chart exploring if receiving a SMS(text message) has any influence in not showing up for an appointment.**"
   ]
  },
  {
   "cell_type": "code",
   "execution_count": 1368,
   "id": "8cfbf6c4",
   "metadata": {},
   "outputs": [
    {
     "data": {
      "text/plain": [
       "[Text(0, 0, 'Not Received'), Text(1, 0, 'Received')]"
      ]
     },
     "execution_count": 1368,
     "metadata": {},
     "output_type": "execute_result"
    },
    {
     "data": {
      "image/png": "[encoded data removed]",
      "text/plain": [
       "<Figure size 432x432 with 1 Axes>"
      ]
     },
     "metadata": {
      "needs_background": "light"
     },
     "output_type": "display_data"
    }
   ],
   "source": [
    "plt.figure(figsize=(6,6))\n",
    "ax03 = no_show_percentage(data=df,column=\"SMS_received\").plot(kind='bar')\n",
    "ax03.set_title(\"Appointment No-Show Relation by SMS_received\")\n",
    "ax03.set_ylabel(\"Percent of No-Shows/%\")\n",
    "#ticks\n",
    "labels = [item.get_text() for item in ax03.get_xticklabels()]\n",
    "labels[0] = 'Not Received'\n",
    "labels[1] = 'Received'\n",
    "ax03.set_xticklabels(labels)"
   ]
  },
  {
   "cell_type": "markdown",
   "id": "43f2e707",
   "metadata": {},
   "source": [
    "* **Patients are more likely not to show up for an appointment if they received a SMS(text) message.**"
   ]
  },
  {
   "cell_type": "markdown",
   "id": "4bc2f974",
   "metadata": {},
   "source": [
    "**Below, make bar chart exploring if the day of week influences not showing up for an appointment.**"
   ]
  },
  {
   "cell_type": "code",
   "execution_count": 1369,
   "id": "f38f4079",
   "metadata": {},
   "outputs": [
    {
     "data": {
      "text/plain": [
       "Text(0.5, 0, 'Day of Week')"
      ]
     },
     "execution_count": 1369,
     "metadata": {},
     "output_type": "execute_result"
    },
    {
     "data": {
      "image/png": "[encoded data removed]",
      "text/plain": [
       "<Figure size 432x432 with 1 Axes>"
      ]
     },
     "metadata": {
      "needs_background": "light"
     },
     "output_type": "display_data"
    }
   ],
   "source": [
    "plt.figure(figsize=(6,6))\n",
    "ax05 = no_show_percentage(data=df,column=\"AppointmentDay_dow\").plot(kind='bar')\n",
    "ax05.set_title(\"Appointment No-Show Relation by Day of Week\")\n",
    "ax05.set_ylabel(\"Percent of No-Shows/%\")\n",
    "ax05.set_xlabel(\"Day of Week\")"
   ]
  },
  {
   "cell_type": "markdown",
   "id": "eb1349bf",
   "metadata": {},
   "source": [
    "* **The day of week of appointment does not seem to affect the no show rate.**"
   ]
  },
  {
   "cell_type": "markdown",
   "id": "de342c78",
   "metadata": {},
   "source": [
    "**Below, make histogram exploring the distribution of appointments by date.**"
   ]
  },
  {
   "cell_type": "code",
   "execution_count": 1370,
   "id": "2111a590",
   "metadata": {},
   "outputs": [
    {
     "data": {
      "text/plain": [
       "Text(0.5, 0, 'Appointment Date')"
      ]
     },
     "execution_count": 1370,
     "metadata": {},
     "output_type": "execute_result"
    },
    {
     "data": {
      "image/png": "[encoded data removed]",
      "text/plain": [
       "<Figure size 2376x288 with 1 Axes>"
      ]
     },
     "metadata": {
      "needs_background": "light"
     },
     "output_type": "display_data"
    }
   ],
   "source": [
    "plt.figure(figsize=(33,4))\n",
    "plt.title('Distribution of Appointment Count by date')\n",
    "ax01_10 = sns.histplot(data=df,x=\"AppointmentDay_date\",bins=30)\n",
    "ax01_10.set_ylabel(\"Appointment Count\")\n",
    "ax01_10.set_xlabel(\"Appointment Date\")"
   ]
  },
  {
   "cell_type": "markdown",
   "id": "f32e4210",
   "metadata": {},
   "source": [
    "* **Most of the appointments were made in May 2016. This makes sense as the period this dataset was recorded was from 04/29/2016 and 6/8/2016.**"
   ]
  },
  {
   "cell_type": "markdown",
   "id": "b4a0a3c2",
   "metadata": {},
   "source": [
    "**Below, make barplot of the percentage of no-shows by month.**"
   ]
  },
  {
   "cell_type": "code",
   "execution_count": 1371,
   "id": "1564bfd8",
   "metadata": {},
   "outputs": [
    {
     "data": {
      "image/png": "[encoded data removed]",
      "text/plain": [
       "<Figure size 432x432 with 1 Axes>"
      ]
     },
     "metadata": {
      "needs_background": "light"
     },
     "output_type": "display_data"
    }
   ],
   "source": [
    "plt.figure(figsize=(6,6))\n",
    "ax06_01 = no_show_percentage(data=df,column=\"AppointmentDay_month\").plot(kind='bar')\n",
    "ax06_01.set_title(\"Percentage of No-Shows by Appointment Month\")\n",
    "ax06_01.set_ylabel(\"Percent of No-Shows/%\")\n",
    "ax06_01.set_xlabel(\"Month\")\n",
    "ax06_01 = plt.gca()\n",
    "ax06_01.tick_params(axis='x', labelrotation = 0)\n",
    "plt.show()"
   ]
  },
  {
   "cell_type": "markdown",
   "id": "b1ec34a8",
   "metadata": {},
   "source": [
    "* **The month of appointment has does not affect the no-show rate as the no-show percentage is around 20 percent for all three months.**"
   ]
  },
  {
   "cell_type": "markdown",
   "id": "144b5a2b",
   "metadata": {},
   "source": [
    "**Below, make barplot of the percentage of no-shows by wait days.**"
   ]
  },
  {
   "cell_type": "code",
   "execution_count": 1372,
   "id": "5916e9e7",
   "metadata": {},
   "outputs": [
    {
     "data": {
      "text/plain": [
       "Text(0.5, 0, 'Wait Days')"
      ]
     },
     "execution_count": 1372,
     "metadata": {},
     "output_type": "execute_result"
    },
    {
     "data": {
      "image/png": "[encoded data removed]",
      "text/plain": [
       "<Figure size 1944x576 with 1 Axes>"
      ]
     },
     "metadata": {
      "needs_background": "light"
     },
     "output_type": "display_data"
    }
   ],
   "source": [
    "plt.figure(figsize=(27,8))\n",
    "ax07_01 = no_show_percentage(data=df,column=\"Wait_Days\").plot(kind='bar')\n",
    "ax07_01.set_title(\"Percentage of No-Shows by Wait Days\")\n",
    "ax07_01.set_ylabel(\"Percent of No-Shows/%\")\n",
    "ax07_01.set_xlabel(\"Wait Days\")"
   ]
  },
  {
   "cell_type": "markdown",
   "id": "5ac08e74",
   "metadata": {},
   "source": [
    "* **The no-show percentage is lowest on 0 wait days. (Same day appointments)**\n",
    "* **The no-show percentage is higher when wait days are over 103 days, but the number of appointments made with such long wait periods is very small. A few no-shows can affect the no-show rate greatly.**"
   ]
  },
  {
   "cell_type": "markdown",
   "id": "49449e68",
   "metadata": {},
   "source": [
    "**Below, make distribution plot comparing Appointment No-Show by Age.**"
   ]
  },
  {
   "cell_type": "code",
   "execution_count": 1373,
   "id": "ca980d6f",
   "metadata": {},
   "outputs": [
    {
     "data": {
      "text/plain": [
       "Text(0, 0.5, 'Appointment Count')"
      ]
     },
     "execution_count": 1373,
     "metadata": {},
     "output_type": "execute_result"
    },
    {
     "data": {
      "image/png": "[encoded data removed]",
      "text/plain": [
       "<Figure size 432x288 with 1 Axes>"
      ]
     },
     "metadata": {
      "needs_background": "light"
     },
     "output_type": "display_data"
    }
   ],
   "source": [
    "plt.figure(figsize=(6,4))\n",
    "plt.title('Distribution of Appointment Count by Age')\n",
    "ax01_02 = sns.histplot(data=df,x='Age')\n",
    "ax01_02.set_ylabel(\"Appointment Count\")"
   ]
  },
  {
   "cell_type": "markdown",
   "id": "012dd081",
   "metadata": {},
   "source": [
    "* **There were more appointments for Age 0 (Newborns) than any other age group.**\n",
    "* **The appointment count goes down after the age of 60, but that may be because older people are more likely to pass away, hence the lower population.**"
   ]
  },
  {
   "cell_type": "markdown",
   "id": "9b6caa24",
   "metadata": {},
   "source": [
    "**Below make distribution plot comparing appointment no-show by age.**"
   ]
  },
  {
   "cell_type": "code",
   "execution_count": 1374,
   "id": "077dd045",
   "metadata": {},
   "outputs": [
    {
     "data": {
      "text/plain": [
       "Text(0, 0.5, 'Appointment Count')"
      ]
     },
     "execution_count": 1374,
     "metadata": {},
     "output_type": "execute_result"
    },
    {
     "data": {
      "image/png": "[encoded data removed]",
      "text/plain": [
       "<Figure size 1728x576 with 1 Axes>"
      ]
     },
     "metadata": {
      "needs_background": "light"
     },
     "output_type": "display_data"
    }
   ],
   "source": [
    "plt.figure(figsize=(24,8))\n",
    "ax08 = sns.histplot(x=\"Age\", data=df, hue=\"No-show\",bins=100,alpha=0.5)\n",
    "ax08.set_title(\"Appointment No-Show Distribution by Age\")\n",
    "ax08.set_ylabel(\"Appointment Count\")"
   ]
  },
  {
   "cell_type": "markdown",
   "id": "a37fc3c5",
   "metadata": {},
   "source": [
    "* **The no-show rate is the highest amongst the 20 - 30 year age group.**\n",
    "* **The no-show rate becomes lower for patients 50 years and older.**"
   ]
  },
  {
   "cell_type": "markdown",
   "id": "8f78ce53",
   "metadata": {},
   "source": [
    "**Below, make barplot of the percentage of no-shows by neighborhood of appointment.**"
   ]
  },
  {
   "cell_type": "code",
   "execution_count": 1375,
   "id": "3b626e02",
   "metadata": {},
   "outputs": [
    {
     "data": {
      "image/png": "[encoded data removed]",
      "text/plain": [
       "<Figure size 1728x576 with 1 Axes>"
      ]
     },
     "metadata": {
      "needs_background": "light"
     },
     "output_type": "display_data"
    }
   ],
   "source": [
    "plt.figure(figsize=(24,8))\n",
    "ax10 = no_show_percentage(data=df,column=\"Neighbourhood\").plot(kind='bar')\n",
    "ax10 = plt.gca()\n",
    "ax10.set_title(\"Percentage of No-Shows by Neighbourhood\")\n",
    "ax10.set_ylabel(\"Percent of No-Shows/%\")\n",
    "ax10.set_xlabel(\"Wait Days\")\n",
    "ax10.tick_params(axis='x', labelrotation = 90)\n",
    "plt.show() "
   ]
  },
  {
   "cell_type": "markdown",
   "id": "23c9da0c",
   "metadata": {},
   "source": [
    "* **Most neighborhoods have a no-show percentage of around 20 percent.**\n",
    "* **ILHAS OCEÂNICAS DE TRINDADE has a 100 percent no-show rate.**\n",
    "* **PARQUE INDUSTRIAL has a 0 percent no-show rate.**"
   ]
  },
  {
   "cell_type": "markdown",
   "id": "57efd763",
   "metadata": {},
   "source": [
    "**Below, see if ILHAS OCEÂNICAS DE TRINDADE and PARQUE INDUSTRIAL percentages are outliers because the number of appointments made in those neighborhoods are small.**"
   ]
  },
  {
   "cell_type": "code",
   "execution_count": 1376,
   "id": "4ab253a4",
   "metadata": {},
   "outputs": [
    {
     "ename": "TypeError",
     "evalue": "Cannot use method 'nsmallest' with dtype object",
     "output_type": "error",
     "traceback": [
      "\u001b[0;31m---------------------------------------------------------------------------\u001b[0m",
      "\u001b[0;31mTypeError\u001b[0m                                 Traceback (most recent call last)",
      "\u001b[0;32m<ipython-input-1376-f5dba9aa005a>\u001b[0m in \u001b[0;36m<module>\u001b[0;34m\u001b[0m\n\u001b[0;32m----> 1\u001b[0;31m \u001b[0mneigh_all\u001b[0m\u001b[0;34m.\u001b[0m\u001b[0mnsmallest\u001b[0m\u001b[0;34m(\u001b[0m\u001b[0;36m5\u001b[0m\u001b[0;34m)\u001b[0m\u001b[0;34m\u001b[0m\u001b[0;34m\u001b[0m\u001b[0m\n\u001b[0m",
      "\u001b[0;32m/opt/anaconda3/lib/python3.8/site-packages/pandas/core/series.py\u001b[0m in \u001b[0;36mnsmallest\u001b[0;34m(self, n, keep)\u001b[0m\n\u001b[1;32m   3669\u001b[0m         \u001b[0mdtype\u001b[0m\u001b[0;34m:\u001b[0m \u001b[0mint64\u001b[0m\u001b[0;34m\u001b[0m\u001b[0;34m\u001b[0m\u001b[0m\n\u001b[1;32m   3670\u001b[0m         \"\"\"\n\u001b[0;32m-> 3671\u001b[0;31m         \u001b[0;32mreturn\u001b[0m \u001b[0malgorithms\u001b[0m\u001b[0;34m.\u001b[0m\u001b[0mSelectNSeries\u001b[0m\u001b[0;34m(\u001b[0m\u001b[0mself\u001b[0m\u001b[0;34m,\u001b[0m \u001b[0mn\u001b[0m\u001b[0;34m=\u001b[0m\u001b[0mn\u001b[0m\u001b[0;34m,\u001b[0m \u001b[0mkeep\u001b[0m\u001b[0;34m=\u001b[0m\u001b[0mkeep\u001b[0m\u001b[0;34m)\u001b[0m\u001b[0;34m.\u001b[0m\u001b[0mnsmallest\u001b[0m\u001b[0;34m(\u001b[0m\u001b[0;34m)\u001b[0m\u001b[0;34m\u001b[0m\u001b[0;34m\u001b[0m\u001b[0m\n\u001b[0m\u001b[1;32m   3672\u001b[0m \u001b[0;34m\u001b[0m\u001b[0m\n\u001b[1;32m   3673\u001b[0m     \u001b[0;32mdef\u001b[0m \u001b[0mswaplevel\u001b[0m\u001b[0;34m(\u001b[0m\u001b[0mself\u001b[0m\u001b[0;34m,\u001b[0m \u001b[0mi\u001b[0m\u001b[0;34m=\u001b[0m\u001b[0;34m-\u001b[0m\u001b[0;36m2\u001b[0m\u001b[0;34m,\u001b[0m \u001b[0mj\u001b[0m\u001b[0;34m=\u001b[0m\u001b[0;34m-\u001b[0m\u001b[0;36m1\u001b[0m\u001b[0;34m,\u001b[0m \u001b[0mcopy\u001b[0m\u001b[0;34m=\u001b[0m\u001b[0;32mTrue\u001b[0m\u001b[0;34m)\u001b[0m \u001b[0;34m->\u001b[0m \u001b[0;34m\"Series\"\u001b[0m\u001b[0;34m:\u001b[0m\u001b[0;34m\u001b[0m\u001b[0;34m\u001b[0m\u001b[0m\n",
      "\u001b[0;32m/opt/anaconda3/lib/python3.8/site-packages/pandas/core/algorithms.py\u001b[0m in \u001b[0;36mnsmallest\u001b[0;34m(self)\u001b[0m\n\u001b[1;32m   1184\u001b[0m \u001b[0;34m\u001b[0m\u001b[0m\n\u001b[1;32m   1185\u001b[0m     \u001b[0;32mdef\u001b[0m \u001b[0mnsmallest\u001b[0m\u001b[0;34m(\u001b[0m\u001b[0mself\u001b[0m\u001b[0;34m)\u001b[0m\u001b[0;34m:\u001b[0m\u001b[0;34m\u001b[0m\u001b[0;34m\u001b[0m\u001b[0m\n\u001b[0;32m-> 1186\u001b[0;31m         \u001b[0;32mreturn\u001b[0m \u001b[0mself\u001b[0m\u001b[0;34m.\u001b[0m\u001b[0mcompute\u001b[0m\u001b[0;34m(\u001b[0m\u001b[0;34m\"nsmallest\"\u001b[0m\u001b[0;34m)\u001b[0m\u001b[0;34m\u001b[0m\u001b[0;34m\u001b[0m\u001b[0m\n\u001b[0m\u001b[1;32m   1187\u001b[0m \u001b[0;34m\u001b[0m\u001b[0m\n\u001b[1;32m   1188\u001b[0m     \u001b[0;34m@\u001b[0m\u001b[0mstaticmethod\u001b[0m\u001b[0;34m\u001b[0m\u001b[0;34m\u001b[0m\u001b[0m\n",
      "\u001b[0;32m/opt/anaconda3/lib/python3.8/site-packages/pandas/core/algorithms.py\u001b[0m in \u001b[0;36mcompute\u001b[0;34m(self, method)\u001b[0m\n\u001b[1;32m   1217\u001b[0m         \u001b[0mdtype\u001b[0m \u001b[0;34m=\u001b[0m \u001b[0mself\u001b[0m\u001b[0;34m.\u001b[0m\u001b[0mobj\u001b[0m\u001b[0;34m.\u001b[0m\u001b[0mdtype\u001b[0m\u001b[0;34m\u001b[0m\u001b[0;34m\u001b[0m\u001b[0m\n\u001b[1;32m   1218\u001b[0m         \u001b[0;32mif\u001b[0m \u001b[0;32mnot\u001b[0m \u001b[0mself\u001b[0m\u001b[0;34m.\u001b[0m\u001b[0mis_valid_dtype_n_method\u001b[0m\u001b[0;34m(\u001b[0m\u001b[0mdtype\u001b[0m\u001b[0;34m)\u001b[0m\u001b[0;34m:\u001b[0m\u001b[0;34m\u001b[0m\u001b[0;34m\u001b[0m\u001b[0m\n\u001b[0;32m-> 1219\u001b[0;31m             \u001b[0;32mraise\u001b[0m \u001b[0mTypeError\u001b[0m\u001b[0;34m(\u001b[0m\u001b[0;34mf\"Cannot use method '{method}' with dtype {dtype}\"\u001b[0m\u001b[0;34m)\u001b[0m\u001b[0;34m\u001b[0m\u001b[0;34m\u001b[0m\u001b[0m\n\u001b[0m\u001b[1;32m   1220\u001b[0m \u001b[0;34m\u001b[0m\u001b[0m\n\u001b[1;32m   1221\u001b[0m         \u001b[0;32mif\u001b[0m \u001b[0mn\u001b[0m \u001b[0;34m<=\u001b[0m \u001b[0;36m0\u001b[0m\u001b[0;34m:\u001b[0m\u001b[0;34m\u001b[0m\u001b[0;34m\u001b[0m\u001b[0m\n",
      "\u001b[0;31mTypeError\u001b[0m: Cannot use method 'nsmallest' with dtype object"
     ]
    }
   ],
   "source": [
    "neigh_all.nsmallest(5)"
   ]
  },
  {
   "cell_type": "markdown",
   "id": "1b9fb9d7",
   "metadata": {},
   "source": [
    "* **Only one appointment was made in PARQUE INDUSTRIAL during the three months of this dataset.**\n",
    "* **Only two appointments were made in ILHAS OCEÂNICAS DE TRINDADE  during the three months of this dataset.**\n",
    "* **The two neighborhoods had outlier no-show rates because of the small numbers of appointments made there.**"
   ]
  },
  {
   "cell_type": "markdown",
   "id": "2ab99e73",
   "metadata": {},
   "source": [
    "## Conclusions"
   ]
  },
  {
   "cell_type": "markdown",
   "id": "9a55e272",
   "metadata": {},
   "source": [
    "* **Overall, 20.2 percent of patients did not show up at their appointment.**\n",
    "* **Patients from ages 20 - 30 are more likely to miss appointments.**\n",
    "* **Patients receiving the scholarship are more likely to miss appointments.**\n",
    "* **Patients receiving text messages(SMS) are more likely to miss appointments.**\n",
    "* **No-show rates amongst patients with hypertension are lower than the average.**\n",
    "* **Alcoholism does not affect no-show rates.**\n",
    "* **Patients who scheduled the appointment on the same day (0 wait days) are less likely to miss appointments.**\n",
    "* **The dataset is limited in that the no show appointments were only gathered for three months from 04/29/2016 and 6/8/2016. Some segments have few appointments so one or two no-shows have a large effect on the no-show rate.**"
   ]
  },
  {
   "cell_type": "code",
   "execution_count": null,
   "id": "997687e2",
   "metadata": {},
   "outputs": [],
   "source": []
  }
 ],
 "metadata": {
  "kernelspec": {
   "display_name": "Python 3",
   "language": "python",
   "name": "python3"
  },
  "language_info": {
   "codemirror_mode": {
    "name": "ipython",
    "version": 3
   },
   "file_extension": ".py",
   "mimetype": "text/x-python",
   "name": "python",
   "nbconvert_exporter": "python",
   "pygments_lexer": "ipython3",
   "version": "3.8.8"
  }
 },
 "nbformat": 4,
 "nbformat_minor": 5
}
